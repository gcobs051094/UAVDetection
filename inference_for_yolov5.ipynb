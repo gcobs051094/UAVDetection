{
 "cells": [
  {
   "cell_type": "code",
   "execution_count": null,
   "metadata": {
    "scrolled": true
   },
   "outputs": [],
   "source": [
    "#無人機比賽Training Dataset_v3\n",
    "#資料前處理(轉換成yolo格式)\n",
    "from os import listdir\n",
    "import os\n",
    "import tqdm\n",
    "import cv2\n",
    "\n",
    "pathtxt = 'D:/Can_Work/yolov5-master_AI_CUP_Drone/Drone_data/train'\n",
    "\n",
    "def convert(size, box):\n",
    "    dw = 1./size[0]\n",
    "    dh = 1./size[1]\n",
    "    x = (box[0] + box[1])/2.0\n",
    "    y = (box[2] + box[3])/2.0\n",
    "    w = box[1] - box[0]\n",
    "    h = box[3] - box[2]\n",
    "    x = x*dw\n",
    "    w = w*dw\n",
    "    y = y*dh\n",
    "    h = h*dh\n",
    "    return (x,y,w,h)\n",
    "\n",
    "\n",
    "for root, dirs, files in os.walk(pathtxt):\n",
    "    for file in files:\n",
    "        if file.endswith(\".png\"):\n",
    "            image = cv2.imread(os.path.join(root, file))\n",
    "            size = [image.shape[1],image.shape[0]]\n",
    "        #if file.endswith(\".txt\"):\n",
    "            #print(os.path.join(root, file))\n",
    "            new_line = []\n",
    "            f = open(os.path.join(root, file.split('.png')[0] + '.txt'), 'r+')\n",
    "            for line in f.readlines():\n",
    "                array = line.split(',')\n",
    "                label = array[0]\n",
    "                xmin = float(array[1])\n",
    "                xmax = float(array[1])+float(array[3])\n",
    "                ymin = float(array[2])\n",
    "                ymax = float(array[2])+float(array[4])\n",
    "                \n",
    "                box = [xmin, xmax, ymin, ymax]\n",
    "                #box = [array[1], array[2], array[3], array[4]]\n",
    "                x, y, w, h = convert(size, box)\n",
    "                #print(x, y, w, h)\n",
    "                #print(len(line))\n",
    "                #提取yolo格式類別\n",
    "                #print(str(label) + ' ' + str(x) + ' '+ str(y) + ' '+ str(abs(w)) + ' '+ str(abs(h)))\n",
    "                new_line.append(str(label) + ' ' + str(x) + ' ' + str(y) + ' ' + str(abs(w)) + ' ' + str(abs(h)) + '\\n')\n",
    "                #print(new_line)\n",
    "            f.seek(0)\n",
    "            f.writelines(new_line)\n",
    "            f.close()"
   ]
  },
  {
   "cell_type": "code",
   "execution_count": null,
   "metadata": {},
   "outputs": [],
   "source": [
    "#無人機比賽datasets\\VisDrone\n",
    "#資料前處理(刪除及轉換label)\n",
    "#0 : pedestrian(person)\n",
    "#1 : people(person)\n",
    "#2 : bicycle X\n",
    "#3 : car\n",
    "#4 : van(car) \n",
    "#5 : truck(hov)\n",
    "#6 : tricycle X\n",
    "#7 : awning-tricycle X\n",
    "#8 : bus(hov)\n",
    "#9 : motor(motorcycle)\n",
    "\n",
    "#0 : car\n",
    "#1 : hov\n",
    "#2 : person\n",
    "#3 : motorcycle\n",
    "\n",
    "from os import listdir\n",
    "import os\n",
    "import tqdm\n",
    "import cv2\n",
    "path = 'D:/Can_Work/yolov5-master_AI_CUP_Drone/datasets/VisDrone/'\n",
    "for pathtxt in 'VisDrone2019-DET-train/annotations', 'VisDrone2019-DET-val/annotations', 'VisDrone2019-DET-test-dev/annotations':\n",
    "    for root, dirs, files in os.walk(path + pathtxt):\n",
    "        for file in files:\n",
    "            if file.endswith(\".txt\"):\n",
    "                #print(os.path.join(root, file))\n",
    "                new_line = []\n",
    "                f = open(os.path.join(root, file), 'r')\n",
    "                f_new = open(os.path.join(path + pathtxt + '_new', file), 'w')\n",
    "\n",
    "                for line in f.readlines():\n",
    "                    if(line.split(' ')[0] == str(0)):\n",
    "                        new_line.append(str(2) + ' ' + line.split(' ', 1)[1])\n",
    "                    elif(line.split(' ')[0] == str(1)):\n",
    "                        new_line.append(str(2) + ' ' + line.split(' ', 1)[1])\n",
    "                    elif(line.split(' ')[0] == str(3)):\n",
    "                        new_line.append(str(0) + ' ' + line.split(' ', 1)[1])\n",
    "                    elif(line.split(' ')[0] == str(4)):\n",
    "                        new_line.append(str(0) + ' ' + line.split(' ', 1)[1])\n",
    "                    elif(line.split(' ')[0] == str(5)):\n",
    "                        new_line.append(str(1) + ' ' + line.split(' ', 1)[1])\n",
    "                    elif(line.split(' ')[0] == str(8)):\n",
    "                        new_line.append(str(1) + ' ' + line.split(' ', 1)[1])\n",
    "                    elif(line.split(' ')[0] == str(9)):\n",
    "                        new_line.append(str(3) + ' ' + line.split(' ', 1)[1])\n",
    "                f_new.seek(0)\n",
    "                f_new.writelines(new_line)\n",
    "                f.close()\n",
    "                f_new.close()"
   ]
  },
  {
   "cell_type": "code",
   "execution_count": null,
   "metadata": {
    "scrolled": true
   },
   "outputs": [],
   "source": [
    "#!pip install sahi\n",
    "#!pip install yolov5\n",
    "#!pip install pandas"
   ]
  },
  {
   "cell_type": "code",
   "execution_count": null,
   "metadata": {
    "id": "A4aKE3nrlHhq"
   },
   "outputs": [],
   "source": [
    "from sahi.model import Yolov5DetectionModel\n",
    "from sahi.utils.cv import read_image\n",
    "from sahi.utils.file import download_from_url\n",
    "from sahi.predict import get_prediction, get_sliced_prediction, predict\n",
    "from IPython.display import Image\n",
    "from os import listdir\n",
    "from PIL import Image as PImage\n",
    "import pandas as pd\n",
    "from tqdm import tqdm, trange"
   ]
  },
  {
   "cell_type": "code",
   "execution_count": null,
   "metadata": {
    "id": "fog8eMAalHhr",
    "scrolled": true
   },
   "outputs": [],
   "source": [
    "yolov5_model_path = 'best.pt'\n",
    "\n",
    "#載入model\n",
    "detection_model = Yolov5DetectionModel(\n",
    "    model_path=yolov5_model_path,\n",
    "    confidence_threshold=0.3,\n",
    "    device='cuda:0', # or 'cpu'\n",
    ")\n",
    "#download_from_url('https://raw.githubusercontent.com/obss/sahi/main/demo/demo_data/small-vehicles1.jpeg', 'demo_data/small-vehicles1.jpeg')\n",
    "#download_from_url('https://raw.githubusercontent.com/obss/sahi/main/demo/demo_data/terrain2.png', 'demo_data/terrain2.png')\n",
    "\n",
    "#要偵測的圖片路徑\n",
    "path = \"Drone_data/Public_Testing_Dataset_v2/\"\n",
    "imagesList = listdir(path)\n",
    "#print(imagesList)"
   ]
  },
  {
   "cell_type": "code",
   "execution_count": null,
   "metadata": {
    "id": "IuziYcgElHhu",
    "outputId": "c3d34de2-8b8b-4181-f684-84ae98fd4039",
    "scrolled": true
   },
   "outputs": [],
   "source": [
    "count = 0\n",
    "result_list = []\n",
    "for img_path in imagesList:\n",
    "    result = get_sliced_prediction(\n",
    "        \"Drone_data/Public_Testing_Dataset_v2/\" + img_path,\n",
    "        detection_model,\n",
    "        slice_height = 512,\n",
    "        slice_width = 512,\n",
    "        overlap_height_ratio = 0.2,\n",
    "        overlap_width_ratio = 0.2\n",
    "    )\n",
    "    \n",
    "    result.export_visuals(export_dir=\"export_dir/Public_Testing_Dataset_v2/\" + \"prediction_visual_\" + str(count) + \".png\")\n",
    "    count = count + 1\n",
    "    \n",
    "    object_prediction_list = result.object_prediction_list\n",
    "    for i in range(len(object_prediction_list)):\n",
    "        #print('coordinate: ' + str(object_prediction_list[i].bbox))\n",
    "        #print('label: ' + str(object_prediction_list[i].category))\n",
    "        result_list.append([img_path.split('.')[0], \n",
    "                            str(object_prediction_list[i].category), \n",
    "                            #object_prediction_list[i].bbox,\n",
    "                            str(object_prediction_list[i].bbox).split('(')[1].split(')')[0].replace(\" \", \"\").split(',')[0],\n",
    "                            str(object_prediction_list[i].bbox).split('(')[1].split(')')[0].replace(\" \", \"\").split(',')[1],\n",
    "                            str(object_prediction_list[i].bbox).split('(')[1].split(')')[0].replace(\" \", \"\").split(',')[2],\n",
    "                            str(object_prediction_list[i].bbox).split('(')[1].split(')')[0].replace(\" \", \"\").split(',')[3]])\n",
    "                            #str(object_prediction_list[i].bbox).split('(')[1].split(')')[0].replace(\" \", \"\")])\n",
    "    #print(result_list)"
   ]
  },
  {
   "cell_type": "code",
   "execution_count": null,
   "metadata": {},
   "outputs": [],
   "source": [
    "columns = [\"img_name\", \"predict_label\",\n",
    "           \"predict_bounding_box_x\", \"predict_bounding_box_y\", \"predict_bounding_box_w\", \"predict_bounding_box_h\"]\n",
    "dt = pd.DataFrame(result_list, columns=columns)\n",
    "dt.to_csv(\"result_csv.csv\", index=0)\n",
    "\n",
    "#輸出csv後記得開csv檔刪除第一列標題"
   ]
  },
  {
   "cell_type": "code",
   "execution_count": null,
   "metadata": {},
   "outputs": [],
   "source": [
    "    object_prediction_list = result.object_prediction_list\n",
    "    for i in range(len(object_prediction_list)):\n",
    "        #print('coordinate: ' + str(object_prediction_list[i].bbox))\n",
    "        #print('label: ' + str(object_prediction_list[i].category))\n",
    "        tmp_bbox = [str(object_prediction_list[i].bbox).split('(')[1].split(')')[0].replace(\" \", \"\").split(',')[0]\n",
    "             ,str(object_prediction_list[i].bbox).split('(')[1].split(')')[0].replace(\" \", \"\").split(',')[1]\n",
    "             ,str(object_prediction_list[i].bbox).split('(')[1].split(')')[0].replace(\" \", \"\").split(',')[2]\n",
    "             ,str(object_prediction_list[i].bbox).split('(')[1].split(')')[0].replace(\" \", \"\").split(',')[3]]\n",
    "        tmp_bbox_2 = ','.join(str(j) for j in tmp_bbox)\n",
    "        #print(tmp_bbox_2)\n",
    "        result_list.append([img_path.split('.')[0], \n",
    "                            str(object_prediction_list[i].category), \n",
    "                            tmp_bbox_2])"
   ]
  }
 ],
 "metadata": {
  "colab": {
   "provenance": []
  },
  "kernelspec": {
   "display_name": "Python 3 (ipykernel)",
   "language": "python",
   "name": "python3"
  },
  "language_info": {
   "codemirror_mode": {
    "name": "ipython",
    "version": 3
   },
   "file_extension": ".py",
   "mimetype": "text/x-python",
   "name": "python",
   "nbconvert_exporter": "python",
   "pygments_lexer": "ipython3",
   "version": "3.7.13"
  }
 },
 "nbformat": 4,
 "nbformat_minor": 1
}
